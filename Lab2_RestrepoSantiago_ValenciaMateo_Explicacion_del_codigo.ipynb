{
  "nbformat": 4,
  "nbformat_minor": 0,
  "metadata": {
    "colab": {
      "provenance": [],
      "authorship_tag": "ABX9TyNAYiYMZzFO1wqKc4F7mcY2",
      "include_colab_link": true
    },
    "kernelspec": {
      "name": "python3",
      "display_name": "Python 3"
    },
    "language_info": {
      "name": "python"
    }
  },
  "cells": [
    {
      "cell_type": "markdown",
      "metadata": {
        "id": "view-in-github",
        "colab_type": "text"
      },
      "source": [
        "<a href=\"https://colab.research.google.com/github/SantirTheK/Lab2-Valencia-Restrepo/blob/main/Lab2_RestrepoSantiago_ValenciaMateo_Explicacion_del_codigo.ipynb\" target=\"_parent\"><img src=\"https://colab.research.google.com/assets/colab-badge.svg\" alt=\"Open In Colab\"/></a>"
      ]
    },
    {
      "cell_type": "markdown",
      "source": [
        "## Codigo\n",
        "\n"
      ],
      "metadata": {
        "id": "LCtKbBio-373"
      }
    },
    {
      "cell_type": "markdown",
      "source": [
        "Profe como te comentamos no pudimos con el git hub entonce, aqui esta la explicacion del codigo parte por parte. Sin embargo aqui no esta la justificacion de la maquina de turing eso esta en el notebook principal."
      ],
      "metadata": {
        "id": "8xbjMYbU3zwt"
      }
    },
    {
      "cell_type": "code",
      "source": [
        "ABECEDARIO_VALIDO = list(\"ABCDEFGHIJKLMNOPQRSTUVWXYZ\")"
      ],
      "metadata": {
        "id": "tseoV7fl3xVq"
      },
      "execution_count": null,
      "outputs": []
    },
    {
      "cell_type": "markdown",
      "source": [
        "Celda 1: En esta lista guardamos los characteres validos para el cifrado, en nuestro caso todo el alfabeto en mayusculas sin incluir ñ."
      ],
      "metadata": {
        "id": "XLeJQQ2i4JL1"
      }
    },
    {
      "cell_type": "code",
      "source": [
        "class ProcesadorUnario:\n",
        "    def __init__(self, alfabeto):\n",
        "        self.alfabeto = alfabeto\n",
        "\n",
        "    def a_unario(self, letra):\n",
        "        return ['1'] * self.alfabeto.index(letra)\n",
        "\n",
        "    def modulo_26(self, cadena):\n",
        "        while len(cadena) >= 26:\n",
        "            cadena = cadena[26:]\n",
        "        return cadena\n",
        "\n",
        "    def unario_a_letra(self, cadena):\n",
        "        return self.alfabeto[len(cadena)]\n"
      ],
      "metadata": {
        "id": "jwWKsakG4Jb9"
      },
      "execution_count": null,
      "outputs": []
    },
    {
      "cell_type": "markdown",
      "source": [
        "Celda 2: Aqui lo que hace el codigo es que convierte letras a representaciones unarias(una lista compuesta de 1s) basadas en su posicion en el alfabateo, ademas aplica un modulo 26 recortando la longitud de la cadena, para despues convertir en una letra segun su longitud.\n"
      ],
      "metadata": {
        "id": "cbILPpgB4Jy5"
      }
    },
    {
      "cell_type": "code",
      "source": [
        "class MaquinaDeTuring:\n",
        "    def __init__(self, texto, clave):\n",
        "        self.texto_original = texto.upper().replace(\" \", \"\")\n",
        "        self.clave_expandida = self._extender_clave(clave.upper(), len(self.texto_original))\n",
        "\n",
        "        self.cintas = {\n",
        "            'entrada': list(self.texto_original),\n",
        "            'clave': list(self.clave_expandida),\n",
        "            'salida': ['_' for _ in self.texto_original],\n",
        "            'temporal': []\n",
        "        }\n",
        "\n",
        "        self.punteros = {nombre: 0 for nombre in self.cintas}\n",
        "        self.estado = 'inicio'\n",
        "        self.terminado = False\n",
        "        self.estados_formales = {\n",
        "            'inicio': 'q0',\n",
        "            'restante': 'q1',\n",
        "            'convertir': 'q2',\n",
        "            'desplazar': 'q3',\n",
        "            'fin': 'qf'\n",
        "        }\n",
        "\n",
        "        self.procesador = ProcesadorUnario(ABECEDARIO_VALIDO)\n"
      ],
      "metadata": {
        "id": "wN5C7oQB4J-M"
      },
      "execution_count": null,
      "outputs": []
    },
    {
      "cell_type": "markdown",
      "source": [
        "Celda 3: En esta celda se inicializa la maquina de turing. Se prepara el texto, ademas alargamos la clave repitiendola hasta tener la longitud del texto, se crean las 4 cintas: entrada, clave, salida y temporal y definimos los punteros estos puestos en el punto inicial. Tambien definimos el estado inicial y los estados formales y se crea el procesador unario para las conversiones."
      ],
      "metadata": {
        "id": "eXNsFwsb4KNk"
      }
    },
    {
      "cell_type": "code",
      "source": [
        "def _extender_clave(self, clave, longitud):\n",
        "  return (clave * ((longitud // len(clave)) + 1))[:longitud]\n"
      ],
      "metadata": {
        "id": "mvY2Zctn4KX2"
      },
      "execution_count": null,
      "outputs": []
    },
    {
      "cell_type": "markdown",
      "source": [
        "Celda 4: Aqui basicamete extendemos la clave hasta que tenga la misma longitud que el mensaje. Esto atravez de repeticiones de la misma y recortando el exceso"
      ],
      "metadata": {
        "id": "29upsSza4KiG"
      }
    },
    {
      "cell_type": "code",
      "source": [
        "def _leer_letras(self):\n",
        "        l1 = self.cintas['entrada'][self.punteros['entrada']]\n",
        "        l2 = self.cintas['clave'][self.punteros['clave']]\n",
        "        return l1, l2\n",
        "def _escribir_salida(self, letra):\n",
        "        pos = self.punteros['salida']\n",
        "        self.cintas['salida'][pos] = letra\n",
        "def _mover_punteros(self):\n",
        "        for key in self.punteros:\n",
        "            if key != 'temporal':\n",
        "                self.punteros[key] += 1\n",
        "        self.punteros['temporal'] = 0\n",
        "        self.cintas['temporal'] = []\n"
      ],
      "metadata": {
        "id": "Xo9p2Q5M4KrM"
      },
      "execution_count": null,
      "outputs": []
    },
    {
      "cell_type": "markdown",
      "source": [
        "Celda 5: Estos métodos permiten leer las letras actuales de la cinta de entrada y clave, escribir el resultado en la cinta de salida, y avanzar todos los punteros excepto el temporal, que se reinicia."
      ],
      "metadata": {
        "id": "QCtRbxwm4K0F"
      }
    },
    {
      "cell_type": "code",
      "source": [
        "def paso(self):\n",
        "  if self.estado == 'inicio':\n",
        "    if self.punteros['entrada'] >= len(self.cintas['entrada']):\n",
        "      self.estado = 'fin'\n",
        "      self.terminado = True\n",
        "      return\n",
        "\n",
        "    l1, l2 = self._leer_letras()\n",
        "    print(f\"Transición: estado={self.estados_formales[self.estado]}, Entrada={l1}, Clave={l2}\")\n",
        "    u1 = self.procesador.a_unario(l1)\n",
        "    u2 = self.procesador.a_unario(l2)\n",
        "    self.cintas['temporal'] = u1 + u2\n",
        "    self.estado = 'restante'\n",
        "\n",
        "  elif self.estado == 'restante':\n",
        "      self.cintas['temporal'] = self.procesador.modulo_26(self.cintas['temporal'])\n",
        "      self.estado = 'convertir'\n",
        "\n",
        "  elif self.estado == 'convertir':\n",
        "      letra_resultado = self.procesador.unario_a_letra(self.cintas['temporal'])\n",
        "      print(f\"Escribiendo en cinta salida: {letra_resultado} en posición {self.punteros['salida']}\")\n",
        "      self._escribir_salida(letra_resultado)\n",
        "      self.estado = 'desplazar'\n",
        "\n",
        "  elif self.estado == 'desplazar':\n",
        "      self._mover_punteros()\n",
        "      self.estado = 'inicio'\n",
        "\n",
        "  elif  self.estado == 'fin':\n",
        "      self.terminado = True\n"
      ],
      "metadata": {
        "id": "yiMUq4Ke4K-r"
      },
      "execution_count": null,
      "outputs": []
    },
    {
      "cell_type": "markdown",
      "source": [
        "Celda 6: Este metodo corre la maquina paso a paso hasta que terime, al mismo tiempo mostrando el estado y lo que contiena la cinta es ese paso. Por ultimo devuelve la cadena final."
      ],
      "metadata": {
        "id": "pV6zfgK34LJ5"
      }
    },
    {
      "cell_type": "code",
      "source": [
        "def ejecutar(self, mostrar=True):\n",
        "        pasos = 0\n",
        "        while not self.terminado:\n",
        "            estado_q = self.estados_formales[self.estado]\n",
        "            if mostrar:\n",
        "                print(f\"\\nPaso {pasos}: Estado = {estado_q}\")\n",
        "                for nombre in ['entrada', 'clave', 'salida', 'temporal']:\n",
        "                    contenido = ''.join(self.cintas[nombre]) if self.cintas[nombre] else '_'\n",
        "                    pos = self.punteros[nombre]\n",
        "                    print(f\"Cinta {nombre.capitalize()}: {contenido}\")\n",
        "                    print(\"                \" + \" \" * pos + \"^\")\n",
        "            self.paso()\n",
        "            pasos += 1\n",
        "\n",
        "        if mostrar:\n",
        "            print(\"\\nEstado final alcanzado: qf (fin)\")\n",
        "        return ''.join(self.cintas['salida'])\n"
      ],
      "metadata": {
        "id": "HQkTVIBw4LRK"
      },
      "execution_count": 24,
      "outputs": []
    },
    {
      "cell_type": "markdown",
      "source": [
        "Celda 7: Este método ejecuta la máquina paso a paso hasta que termine, mostrando el estado y contenido de las cintas en cada paso (si se activa el parámetro mostrar, uno nunca sabe que le toque enviar un mensaje cifrado de verdad). Devuelve la cadena cifrada final."
      ],
      "metadata": {
        "id": "qkJwVYz24Lh6"
      }
    },
    {
      "cell_type": "code",
      "source": [
        "if __name__ == \"__main__\":\n",
        "    def obtener_entrada(mensaje):\n",
        "        while True:\n",
        "            entrada = input(mensaje).strip()\n",
        "            if entrada.isalpha() and all(c in ABECEDARIO_VALIDO for c in entrada):\n",
        "                return entrada\n",
        "            print(\"Entrada inválida. Usa solo letras mayúsculas A-Z, sin Ñ ni símbolos.\")\n",
        "\n",
        "    texto_usuario = obtener_entrada(\"Ingrese el texto a cifrar (A-Z, sin Ñ): \")\n",
        "    clave_usuario = obtener_entrada(\"Ingrese la clave (A-Z, sin Ñ): \")\n",
        "\n",
        "    maquina = MaquinaDeTuring(texto_usuario, clave_usuario)\n",
        "    resultado = maquina.ejecutar(mostrar=True)\n",
        "    print(\"\\nTexto cifrado final:\", resultado)\n"
      ],
      "metadata": {
        "id": "E6TzmMUM7t0O"
      },
      "execution_count": null,
      "outputs": []
    },
    {
      "cell_type": "markdown",
      "source": [
        "Celda 8: Esta celda contiene el código para pedir al usuario que ingrese el texto y la clave a cifrar, asegurando que sólo sean letras válidas. Luego crea la máquina y ejecuta el cifrado mostrando el resultado.\n",
        "\n"
      ],
      "metadata": {
        "id": "hl0kiaTA79Q1"
      }
    }
  ]
}